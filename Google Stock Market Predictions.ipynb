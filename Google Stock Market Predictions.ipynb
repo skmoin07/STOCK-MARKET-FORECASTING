{
 "cells": [
  {
   "cell_type": "markdown",
   "metadata": {},
   "source": [
    "STOCK MARKET PREDICTION "
   ]
  },
  {
   "cell_type": "code",
   "execution_count": 39,
   "metadata": {},
   "outputs": [],
   "source": [
    "import pandas_datareader as pdr\n",
    "import os\n",
    "import pandas as pd\n",
    "import numpy as np \n",
    "import matplotlib.pyplot as plt\n",
    "import seaborn as sns\n",
    "%matplotlib inline\n",
    "import numpy"
   ]
  },
  {
   "cell_type": "code",
   "execution_count": 40,
   "metadata": {},
   "outputs": [
    {
     "name": "stderr",
     "output_type": "stream",
     "text": [
      "C:\\Users\\ASUS\\anaconda3\\envs\\envo\\lib\\site-packages\\pandas_datareader\\tiingo.py:234: FutureWarning: In a future version of pandas all arguments of concat except for the argument 'objs' will be keyword-only\n",
      "  return pd.concat(dfs, self._concat_axis)\n"
     ]
    }
   ],
   "source": [
    "df=pdr.get_data_tiingo('GOOG', api_key='b20d59406df270b4e2a3646965fc4a4ef9bae6d5')\n"
   ]
  },
  {
   "cell_type": "code",
   "execution_count": 41,
   "metadata": {},
   "outputs": [],
   "source": [
    "df.to_csv('GOOG.csv')"
   ]
  },
  {
   "cell_type": "code",
   "execution_count": 42,
   "metadata": {},
   "outputs": [],
   "source": [
    "df=pd.read_csv('GOOG.csv')"
   ]
  },
  {
   "cell_type": "code",
   "execution_count": 43,
   "metadata": {},
   "outputs": [
    {
     "data": {
      "text/html": [
       "<div>\n",
       "<style scoped>\n",
       "    .dataframe tbody tr th:only-of-type {\n",
       "        vertical-align: middle;\n",
       "    }\n",
       "\n",
       "    .dataframe tbody tr th {\n",
       "        vertical-align: top;\n",
       "    }\n",
       "\n",
       "    .dataframe thead th {\n",
       "        text-align: right;\n",
       "    }\n",
       "</style>\n",
       "<table border=\"1\" class=\"dataframe\">\n",
       "  <thead>\n",
       "    <tr style=\"text-align: right;\">\n",
       "      <th></th>\n",
       "      <th>symbol</th>\n",
       "      <th>date</th>\n",
       "      <th>close</th>\n",
       "      <th>high</th>\n",
       "      <th>low</th>\n",
       "      <th>open</th>\n",
       "      <th>volume</th>\n",
       "      <th>adjClose</th>\n",
       "      <th>adjHigh</th>\n",
       "      <th>adjLow</th>\n",
       "      <th>adjOpen</th>\n",
       "      <th>adjVolume</th>\n",
       "      <th>divCash</th>\n",
       "      <th>splitFactor</th>\n",
       "    </tr>\n",
       "  </thead>\n",
       "  <tbody>\n",
       "    <tr>\n",
       "      <th>0</th>\n",
       "      <td>GOOG</td>\n",
       "      <td>2017-02-09 00:00:00+00:00</td>\n",
       "      <td>809.56</td>\n",
       "      <td>810.660</td>\n",
       "      <td>804.54</td>\n",
       "      <td>809.51</td>\n",
       "      <td>990391</td>\n",
       "      <td>809.56</td>\n",
       "      <td>810.660</td>\n",
       "      <td>804.54</td>\n",
       "      <td>809.51</td>\n",
       "      <td>990391</td>\n",
       "      <td>0.0</td>\n",
       "      <td>1.0</td>\n",
       "    </tr>\n",
       "    <tr>\n",
       "      <th>1</th>\n",
       "      <td>GOOG</td>\n",
       "      <td>2017-02-10 00:00:00+00:00</td>\n",
       "      <td>813.67</td>\n",
       "      <td>815.250</td>\n",
       "      <td>809.78</td>\n",
       "      <td>811.70</td>\n",
       "      <td>1134976</td>\n",
       "      <td>813.67</td>\n",
       "      <td>815.250</td>\n",
       "      <td>809.78</td>\n",
       "      <td>811.70</td>\n",
       "      <td>1134976</td>\n",
       "      <td>0.0</td>\n",
       "      <td>1.0</td>\n",
       "    </tr>\n",
       "    <tr>\n",
       "      <th>2</th>\n",
       "      <td>GOOG</td>\n",
       "      <td>2017-02-13 00:00:00+00:00</td>\n",
       "      <td>819.24</td>\n",
       "      <td>820.959</td>\n",
       "      <td>815.49</td>\n",
       "      <td>816.00</td>\n",
       "      <td>1213324</td>\n",
       "      <td>819.24</td>\n",
       "      <td>820.959</td>\n",
       "      <td>815.49</td>\n",
       "      <td>816.00</td>\n",
       "      <td>1213324</td>\n",
       "      <td>0.0</td>\n",
       "      <td>1.0</td>\n",
       "    </tr>\n",
       "    <tr>\n",
       "      <th>3</th>\n",
       "      <td>GOOG</td>\n",
       "      <td>2017-02-14 00:00:00+00:00</td>\n",
       "      <td>820.45</td>\n",
       "      <td>823.000</td>\n",
       "      <td>816.00</td>\n",
       "      <td>819.00</td>\n",
       "      <td>1054732</td>\n",
       "      <td>820.45</td>\n",
       "      <td>823.000</td>\n",
       "      <td>816.00</td>\n",
       "      <td>819.00</td>\n",
       "      <td>1054732</td>\n",
       "      <td>0.0</td>\n",
       "      <td>1.0</td>\n",
       "    </tr>\n",
       "    <tr>\n",
       "      <th>4</th>\n",
       "      <td>GOOG</td>\n",
       "      <td>2017-02-15 00:00:00+00:00</td>\n",
       "      <td>818.98</td>\n",
       "      <td>823.000</td>\n",
       "      <td>818.47</td>\n",
       "      <td>819.36</td>\n",
       "      <td>1313617</td>\n",
       "      <td>818.98</td>\n",
       "      <td>823.000</td>\n",
       "      <td>818.47</td>\n",
       "      <td>819.36</td>\n",
       "      <td>1313617</td>\n",
       "      <td>0.0</td>\n",
       "      <td>1.0</td>\n",
       "    </tr>\n",
       "  </tbody>\n",
       "</table>\n",
       "</div>"
      ],
      "text/plain": [
       "  symbol                       date   close     high     low    open   volume  \\\n",
       "0   GOOG  2017-02-09 00:00:00+00:00  809.56  810.660  804.54  809.51   990391   \n",
       "1   GOOG  2017-02-10 00:00:00+00:00  813.67  815.250  809.78  811.70  1134976   \n",
       "2   GOOG  2017-02-13 00:00:00+00:00  819.24  820.959  815.49  816.00  1213324   \n",
       "3   GOOG  2017-02-14 00:00:00+00:00  820.45  823.000  816.00  819.00  1054732   \n",
       "4   GOOG  2017-02-15 00:00:00+00:00  818.98  823.000  818.47  819.36  1313617   \n",
       "\n",
       "   adjClose  adjHigh  adjLow  adjOpen  adjVolume  divCash  splitFactor  \n",
       "0    809.56  810.660  804.54   809.51     990391      0.0          1.0  \n",
       "1    813.67  815.250  809.78   811.70    1134976      0.0          1.0  \n",
       "2    819.24  820.959  815.49   816.00    1213324      0.0          1.0  \n",
       "3    820.45  823.000  816.00   819.00    1054732      0.0          1.0  \n",
       "4    818.98  823.000  818.47   819.36    1313617      0.0          1.0  "
      ]
     },
     "execution_count": 43,
     "metadata": {},
     "output_type": "execute_result"
    }
   ],
   "source": [
    "df.head()"
   ]
  },
  {
   "cell_type": "code",
   "execution_count": 44,
   "metadata": {},
   "outputs": [
    {
     "data": {
      "text/html": [
       "<div>\n",
       "<style scoped>\n",
       "    .dataframe tbody tr th:only-of-type {\n",
       "        vertical-align: middle;\n",
       "    }\n",
       "\n",
       "    .dataframe tbody tr th {\n",
       "        vertical-align: top;\n",
       "    }\n",
       "\n",
       "    .dataframe thead th {\n",
       "        text-align: right;\n",
       "    }\n",
       "</style>\n",
       "<table border=\"1\" class=\"dataframe\">\n",
       "  <thead>\n",
       "    <tr style=\"text-align: right;\">\n",
       "      <th></th>\n",
       "      <th>symbol</th>\n",
       "      <th>date</th>\n",
       "      <th>close</th>\n",
       "      <th>high</th>\n",
       "      <th>low</th>\n",
       "      <th>open</th>\n",
       "      <th>volume</th>\n",
       "      <th>adjClose</th>\n",
       "      <th>adjHigh</th>\n",
       "      <th>adjLow</th>\n",
       "      <th>adjOpen</th>\n",
       "      <th>adjVolume</th>\n",
       "      <th>divCash</th>\n",
       "      <th>splitFactor</th>\n",
       "    </tr>\n",
       "  </thead>\n",
       "  <tbody>\n",
       "    <tr>\n",
       "      <th>1253</th>\n",
       "      <td>GOOG</td>\n",
       "      <td>2022-02-01 00:00:00+00:00</td>\n",
       "      <td>2757.57</td>\n",
       "      <td>2764.0000</td>\n",
       "      <td>2691.3645</td>\n",
       "      <td>2756.70</td>\n",
       "      <td>2560160</td>\n",
       "      <td>2757.57</td>\n",
       "      <td>2764.0000</td>\n",
       "      <td>2691.3645</td>\n",
       "      <td>2756.70</td>\n",
       "      <td>2560160</td>\n",
       "      <td>0.0</td>\n",
       "      <td>1.0</td>\n",
       "    </tr>\n",
       "    <tr>\n",
       "      <th>1254</th>\n",
       "      <td>GOOG</td>\n",
       "      <td>2022-02-02 00:00:00+00:00</td>\n",
       "      <td>2960.73</td>\n",
       "      <td>3042.0000</td>\n",
       "      <td>2911.1501</td>\n",
       "      <td>3037.27</td>\n",
       "      <td>4487538</td>\n",
       "      <td>2960.73</td>\n",
       "      <td>3042.0000</td>\n",
       "      <td>2911.1501</td>\n",
       "      <td>3037.27</td>\n",
       "      <td>4487538</td>\n",
       "      <td>0.0</td>\n",
       "      <td>1.0</td>\n",
       "    </tr>\n",
       "    <tr>\n",
       "      <th>1255</th>\n",
       "      <td>GOOG</td>\n",
       "      <td>2022-02-03 00:00:00+00:00</td>\n",
       "      <td>2853.01</td>\n",
       "      <td>2982.3544</td>\n",
       "      <td>2844.1000</td>\n",
       "      <td>2905.90</td>\n",
       "      <td>2846507</td>\n",
       "      <td>2853.01</td>\n",
       "      <td>2982.3544</td>\n",
       "      <td>2844.1000</td>\n",
       "      <td>2905.90</td>\n",
       "      <td>2846507</td>\n",
       "      <td>0.0</td>\n",
       "      <td>1.0</td>\n",
       "    </tr>\n",
       "    <tr>\n",
       "      <th>1256</th>\n",
       "      <td>GOOG</td>\n",
       "      <td>2022-02-04 00:00:00+00:00</td>\n",
       "      <td>2860.32</td>\n",
       "      <td>2890.7050</td>\n",
       "      <td>2796.3500</td>\n",
       "      <td>2860.34</td>\n",
       "      <td>2461220</td>\n",
       "      <td>2860.32</td>\n",
       "      <td>2890.7050</td>\n",
       "      <td>2796.3500</td>\n",
       "      <td>2860.34</td>\n",
       "      <td>2461220</td>\n",
       "      <td>0.0</td>\n",
       "      <td>1.0</td>\n",
       "    </tr>\n",
       "    <tr>\n",
       "      <th>1257</th>\n",
       "      <td>GOOG</td>\n",
       "      <td>2022-02-07 00:00:00+00:00</td>\n",
       "      <td>2778.76</td>\n",
       "      <td>2876.9299</td>\n",
       "      <td>2773.9800</td>\n",
       "      <td>2874.18</td>\n",
       "      <td>2230537</td>\n",
       "      <td>2778.76</td>\n",
       "      <td>2876.9299</td>\n",
       "      <td>2773.9800</td>\n",
       "      <td>2874.18</td>\n",
       "      <td>2230537</td>\n",
       "      <td>0.0</td>\n",
       "      <td>1.0</td>\n",
       "    </tr>\n",
       "  </tbody>\n",
       "</table>\n",
       "</div>"
      ],
      "text/plain": [
       "     symbol                       date    close       high        low  \\\n",
       "1253   GOOG  2022-02-01 00:00:00+00:00  2757.57  2764.0000  2691.3645   \n",
       "1254   GOOG  2022-02-02 00:00:00+00:00  2960.73  3042.0000  2911.1501   \n",
       "1255   GOOG  2022-02-03 00:00:00+00:00  2853.01  2982.3544  2844.1000   \n",
       "1256   GOOG  2022-02-04 00:00:00+00:00  2860.32  2890.7050  2796.3500   \n",
       "1257   GOOG  2022-02-07 00:00:00+00:00  2778.76  2876.9299  2773.9800   \n",
       "\n",
       "         open   volume  adjClose    adjHigh     adjLow  adjOpen  adjVolume  \\\n",
       "1253  2756.70  2560160   2757.57  2764.0000  2691.3645  2756.70    2560160   \n",
       "1254  3037.27  4487538   2960.73  3042.0000  2911.1501  3037.27    4487538   \n",
       "1255  2905.90  2846507   2853.01  2982.3544  2844.1000  2905.90    2846507   \n",
       "1256  2860.34  2461220   2860.32  2890.7050  2796.3500  2860.34    2461220   \n",
       "1257  2874.18  2230537   2778.76  2876.9299  2773.9800  2874.18    2230537   \n",
       "\n",
       "      divCash  splitFactor  \n",
       "1253      0.0          1.0  \n",
       "1254      0.0          1.0  \n",
       "1255      0.0          1.0  \n",
       "1256      0.0          1.0  \n",
       "1257      0.0          1.0  "
      ]
     },
     "execution_count": 44,
     "metadata": {},
     "output_type": "execute_result"
    }
   ],
   "source": [
    "df.tail()"
   ]
  },
  {
   "cell_type": "code",
   "execution_count": 45,
   "metadata": {},
   "outputs": [],
   "source": [
    "df1=df.reset_index()['close']"
   ]
  },
  {
   "cell_type": "code",
   "execution_count": 46,
   "metadata": {},
   "outputs": [
    {
     "data": {
      "text/plain": [
       "(1258,)"
      ]
     },
     "execution_count": 46,
     "metadata": {},
     "output_type": "execute_result"
    }
   ],
   "source": [
    "df1.shape"
   ]
  },
  {
   "cell_type": "code",
   "execution_count": 47,
   "metadata": {},
   "outputs": [
    {
     "data": {
      "text/plain": [
       "[<matplotlib.lines.Line2D at 0x2395979ea90>]"
      ]
     },
     "execution_count": 47,
     "metadata": {},
     "output_type": "execute_result"
    },
    {
     "data": {
      "image/png": "[encoded data removed]",
      "text/plain": [
       "<Figure size 432x288 with 1 Axes>"
      ]
     },
     "metadata": {
      "needs_background": "light"
     },
     "output_type": "display_data"
    }
   ],
   "source": [
    "#Visualization\n",
    "plt.plot(df1)"
   ]
  },
  {
   "cell_type": "code",
   "execution_count": 48,
   "metadata": {},
   "outputs": [],
   "source": [
    "#MinMax Scaler\n",
    "from sklearn.preprocessing import MinMaxScaler\n",
    "scaler=MinMaxScaler(feature_range=(0,1))\n",
    "df1=scaler.fit_transform(np.array(df1).reshape(-1,1))"
   ]
  },
  {
   "cell_type": "code",
   "execution_count": 49,
   "metadata": {},
   "outputs": [
    {
     "data": {
      "text/plain": [
       "(1258, 1)"
      ]
     },
     "execution_count": 49,
     "metadata": {},
     "output_type": "execute_result"
    }
   ],
   "source": [
    "df1.shape"
   ]
  },
  {
   "cell_type": "code",
   "execution_count": 50,
   "metadata": {},
   "outputs": [],
   "source": [
    "#Splitting into train and test\n",
    "training_size=int(len(df1)*0.65)\n",
    "test_size=len(df1)-training_size\n",
    "train_data,test_data=df1[0:training_size,:],df1[training_size:len(df1),:1]"
   ]
  },
  {
   "cell_type": "code",
   "execution_count": 51,
   "metadata": {},
   "outputs": [
    {
     "data": {
      "text/plain": [
       "(817, 441)"
      ]
     },
     "execution_count": 51,
     "metadata": {},
     "output_type": "execute_result"
    }
   ],
   "source": [
    "training_size,test_size"
   ]
  },
  {
   "cell_type": "code",
   "execution_count": 52,
   "metadata": {},
   "outputs": [],
   "source": [
    "#converting array of values into a dataset matrix\n",
    "def create_dataset(dataset,time_step=1):\n",
    "    dataX,dataY =[], []\n",
    "    for i in range(len(dataset)-time_step-1):\n",
    "        a=dataset[i:(i+time_step),0]\n",
    "        dataX.append(a)\n",
    "        dataY.append(dataset[i+time_step,0])\n",
    "    return numpy.array(dataX),numpy.array(dataY)   \n"
   ]
  },
  {
   "cell_type": "code",
   "execution_count": 53,
   "metadata": {},
   "outputs": [],
   "source": [
    "#Reshaping\n",
    "time_step=100\n",
    "X_train,y_train=create_dataset(train_data,time_step)\n",
    "X_test,y_test=create_dataset(test_data,time_step)\n"
   ]
  },
  {
   "cell_type": "code",
   "execution_count": 54,
   "metadata": {},
   "outputs": [
    {
     "data": {
      "text/plain": [
       "((716, 100), (716,))"
      ]
     },
     "execution_count": 54,
     "metadata": {},
     "output_type": "execute_result"
    }
   ],
   "source": [
    "X_train.shape,y_train.shape"
   ]
  },
  {
   "cell_type": "code",
   "execution_count": 55,
   "metadata": {},
   "outputs": [
    {
     "data": {
      "text/plain": [
       "((340, 100), (340,))"
      ]
     },
     "execution_count": 55,
     "metadata": {},
     "output_type": "execute_result"
    }
   ],
   "source": [
    "X_test.shape,y_test.shape"
   ]
  },
  {
   "cell_type": "code",
   "execution_count": 56,
   "metadata": {},
   "outputs": [
    {
     "name": "stdout",
     "output_type": "stream",
     "text": [
      "[[0.         0.00186427 0.00439078 ... 0.04909236 0.04498281 0.04043327]\n",
      " [0.00186427 0.00439078 0.00493963 ... 0.04498281 0.04043327 0.04633452]\n",
      " [0.00439078 0.00493963 0.00427285 ... 0.04043327 0.04633452 0.04405748]\n",
      " ...\n",
      " [0.24271757 0.24288086 0.24526222 ... 0.24453194 0.23180866 0.2346164 ]\n",
      " [0.24288086 0.24526222 0.24415546 ... 0.23180866 0.2346164  0.24564324]\n",
      " [0.24526222 0.24415546 0.25020638 ... 0.2346164  0.24564324 0.24391505]]\n"
     ]
    }
   ],
   "source": [
    "print(X_train)"
   ]
  },
  {
   "cell_type": "code",
   "execution_count": 57,
   "metadata": {},
   "outputs": [],
   "source": [
    "#Creating the LSTM model\n",
    "from tensorflow.keras.models import Sequential\n",
    "from tensorflow.keras.layers import Dense\n",
    "from tensorflow.keras.layers import LSTM\n",
    "from tensorflow.keras.optimizers import Adam\n",
    "\n"
   ]
  },
  {
   "cell_type": "code",
   "execution_count": 58,
   "metadata": {},
   "outputs": [],
   "source": [
    "model=Sequential()\n",
    "model.add(LSTM(50,return_sequences=True,input_shape=(X_train.shape[1],1)))\n",
    "model.add(LSTM(50,return_sequences=True))\n",
    "model.add(LSTM(50))\n",
    "model.add(Dense(1))\n",
    "model.compile(loss='mean_squared_error',\n",
    "          optimizer='adam')"
   ]
  },
  {
   "cell_type": "code",
   "execution_count": 59,
   "metadata": {},
   "outputs": [
    {
     "name": "stdout",
     "output_type": "stream",
     "text": [
      "Model: \"sequential_1\"\n",
      "_________________________________________________________________\n",
      " Layer (type)                Output Shape              Param #   \n",
      "=================================================================\n",
      " lstm_3 (LSTM)               (None, 100, 50)           10400     \n",
      "                                                                 \n",
      " lstm_4 (LSTM)               (None, 100, 50)           20200     \n",
      "                                                                 \n",
      " lstm_5 (LSTM)               (None, 50)                20200     \n",
      "                                                                 \n",
      " dense_1 (Dense)             (None, 1)                 51        \n",
      "                                                                 \n",
      "=================================================================\n",
      "Total params: 50,851\n",
      "Trainable params: 50,851\n",
      "Non-trainable params: 0\n",
      "_________________________________________________________________\n"
     ]
    }
   ],
   "source": [
    "model.summary()"
   ]
  },
  {
   "cell_type": "code",
   "execution_count": 60,
   "metadata": {},
   "outputs": [
    {
     "name": "stdout",
     "output_type": "stream",
     "text": [
      "Epoch 1/100\n",
      "12/12 [==============================] - 10s 355ms/step - loss: 0.0060 - val_loss: 0.1584\n",
      "Epoch 2/100\n",
      "12/12 [==============================] - 2s 146ms/step - loss: 0.0018 - val_loss: 0.0848\n",
      "Epoch 3/100\n",
      "12/12 [==============================] - 2s 136ms/step - loss: 0.0011 - val_loss: 0.0296\n",
      "Epoch 4/100\n",
      "12/12 [==============================] - 2s 138ms/step - loss: 7.6109e-04 - val_loss: 0.0155\n",
      "Epoch 5/100\n",
      "12/12 [==============================] - 2s 149ms/step - loss: 6.2139e-04 - val_loss: 0.0074\n",
      "Epoch 6/100\n",
      "12/12 [==============================] - 2s 145ms/step - loss: 5.9108e-04 - val_loss: 0.0081\n",
      "Epoch 7/100\n",
      "12/12 [==============================] - 2s 135ms/step - loss: 5.5918e-04 - val_loss: 0.0107\n",
      "Epoch 8/100\n",
      "12/12 [==============================] - 2s 135ms/step - loss: 5.3532e-04 - val_loss: 0.0080\n",
      "Epoch 9/100\n",
      "12/12 [==============================] - 2s 134ms/step - loss: 5.1964e-04 - val_loss: 0.0087\n",
      "Epoch 10/100\n",
      "12/12 [==============================] - 2s 135ms/step - loss: 5.7372e-04 - val_loss: 0.0088\n",
      "Epoch 11/100\n",
      "12/12 [==============================] - 2s 136ms/step - loss: 5.5367e-04 - val_loss: 0.0066\n",
      "Epoch 12/100\n",
      "12/12 [==============================] - 2s 137ms/step - loss: 4.7515e-04 - val_loss: 0.0053\n",
      "Epoch 13/100\n",
      "12/12 [==============================] - 2s 134ms/step - loss: 4.8882e-04 - val_loss: 0.0085\n",
      "Epoch 14/100\n",
      "12/12 [==============================] - 2s 141ms/step - loss: 4.4967e-04 - val_loss: 0.0115\n",
      "Epoch 15/100\n",
      "12/12 [==============================] - 2s 136ms/step - loss: 4.1527e-04 - val_loss: 0.0117\n",
      "Epoch 16/100\n",
      "12/12 [==============================] - 2s 134ms/step - loss: 4.1219e-04 - val_loss: 0.0178\n",
      "Epoch 17/100\n",
      "12/12 [==============================] - 2s 135ms/step - loss: 3.8312e-04 - val_loss: 0.0156\n",
      "Epoch 18/100\n",
      "12/12 [==============================] - 2s 135ms/step - loss: 3.6605e-04 - val_loss: 0.0208\n",
      "Epoch 19/100\n",
      "12/12 [==============================] - 2s 133ms/step - loss: 3.7551e-04 - val_loss: 0.0260\n",
      "Epoch 20/100\n",
      "12/12 [==============================] - 2s 135ms/step - loss: 4.1114e-04 - val_loss: 0.0181\n",
      "Epoch 21/100\n",
      "12/12 [==============================] - 2s 135ms/step - loss: 3.6618e-04 - val_loss: 0.0272\n",
      "Epoch 22/100\n",
      "12/12 [==============================] - 2s 136ms/step - loss: 3.3794e-04 - val_loss: 0.0158\n",
      "Epoch 23/100\n",
      "12/12 [==============================] - 2s 137ms/step - loss: 3.7248e-04 - val_loss: 0.0339\n",
      "Epoch 24/100\n",
      "12/12 [==============================] - 2s 142ms/step - loss: 3.4288e-04 - val_loss: 0.0189\n",
      "Epoch 25/100\n",
      "12/12 [==============================] - 2s 136ms/step - loss: 3.2963e-04 - val_loss: 0.0327\n",
      "Epoch 26/100\n",
      "12/12 [==============================] - 2s 144ms/step - loss: 3.2522e-04 - val_loss: 0.0360\n",
      "Epoch 27/100\n",
      "12/12 [==============================] - 2s 134ms/step - loss: 3.2048e-04 - val_loss: 0.0379\n",
      "Epoch 28/100\n",
      "12/12 [==============================] - 2s 136ms/step - loss: 3.1982e-04 - val_loss: 0.0374\n",
      "Epoch 29/100\n",
      "12/12 [==============================] - 2s 133ms/step - loss: 3.0446e-04 - val_loss: 0.0515\n",
      "Epoch 30/100\n",
      "12/12 [==============================] - 2s 134ms/step - loss: 3.5582e-04 - val_loss: 0.0333\n",
      "Epoch 31/100\n",
      "12/12 [==============================] - 2s 136ms/step - loss: 3.0733e-04 - val_loss: 0.0459\n",
      "Epoch 32/100\n",
      "12/12 [==============================] - 2s 135ms/step - loss: 2.9955e-04 - val_loss: 0.0300\n",
      "Epoch 33/100\n",
      "12/12 [==============================] - 2s 135ms/step - loss: 3.0390e-04 - val_loss: 0.0459\n",
      "Epoch 34/100\n",
      "12/12 [==============================] - 2s 135ms/step - loss: 3.0479e-04 - val_loss: 0.0609\n",
      "Epoch 35/100\n",
      "12/12 [==============================] - 2s 135ms/step - loss: 2.9335e-04 - val_loss: 0.0448\n",
      "Epoch 36/100\n",
      "12/12 [==============================] - 2s 137ms/step - loss: 2.8829e-04 - val_loss: 0.0646\n",
      "Epoch 37/100\n",
      "12/12 [==============================] - 2s 135ms/step - loss: 2.9409e-04 - val_loss: 0.0719\n",
      "Epoch 38/100\n",
      "12/12 [==============================] - 2s 134ms/step - loss: 3.2193e-04 - val_loss: 0.0531\n",
      "Epoch 39/100\n",
      "12/12 [==============================] - 2s 139ms/step - loss: 2.8567e-04 - val_loss: 0.0560\n",
      "Epoch 40/100\n",
      "12/12 [==============================] - 2s 135ms/step - loss: 2.8271e-04 - val_loss: 0.0694\n",
      "Epoch 41/100\n",
      "12/12 [==============================] - 2s 136ms/step - loss: 2.6935e-04 - val_loss: 0.0705\n",
      "Epoch 42/100\n",
      "12/12 [==============================] - 2s 134ms/step - loss: 2.6915e-04 - val_loss: 0.0668\n",
      "Epoch 43/100\n",
      "12/12 [==============================] - 2s 136ms/step - loss: 2.8658e-04 - val_loss: 0.0955\n",
      "Epoch 44/100\n",
      "12/12 [==============================] - 2s 134ms/step - loss: 2.6083e-04 - val_loss: 0.0805\n",
      "Epoch 45/100\n",
      "12/12 [==============================] - 2s 135ms/step - loss: 2.7415e-04 - val_loss: 0.0936\n",
      "Epoch 46/100\n",
      "12/12 [==============================] - 2s 134ms/step - loss: 2.6367e-04 - val_loss: 0.1066\n",
      "Epoch 47/100\n",
      "12/12 [==============================] - 2s 136ms/step - loss: 2.5800e-04 - val_loss: 0.0911\n",
      "Epoch 48/100\n",
      "12/12 [==============================] - 2s 136ms/step - loss: 2.5317e-04 - val_loss: 0.1010\n",
      "Epoch 49/100\n",
      "12/12 [==============================] - 2s 136ms/step - loss: 2.6133e-04 - val_loss: 0.1228\n",
      "Epoch 50/100\n",
      "12/12 [==============================] - 2s 138ms/step - loss: 2.6119e-04 - val_loss: 0.1170\n",
      "Epoch 51/100\n",
      "12/12 [==============================] - 2s 141ms/step - loss: 2.4881e-04 - val_loss: 0.1118\n",
      "Epoch 52/100\n",
      "12/12 [==============================] - 2s 135ms/step - loss: 2.3862e-04 - val_loss: 0.1303\n",
      "Epoch 53/100\n",
      "12/12 [==============================] - 2s 136ms/step - loss: 2.5347e-04 - val_loss: 0.1255\n",
      "Epoch 54/100\n",
      "12/12 [==============================] - 2s 136ms/step - loss: 2.4278e-04 - val_loss: 0.1750\n",
      "Epoch 55/100\n",
      "12/12 [==============================] - 2s 135ms/step - loss: 2.8019e-04 - val_loss: 0.1268\n",
      "Epoch 56/100\n",
      "12/12 [==============================] - 2s 136ms/step - loss: 2.5431e-04 - val_loss: 0.1733\n",
      "Epoch 57/100\n",
      "12/12 [==============================] - 2s 135ms/step - loss: 2.2983e-04 - val_loss: 0.1178\n",
      "Epoch 58/100\n",
      "12/12 [==============================] - 2s 135ms/step - loss: 2.3590e-04 - val_loss: 0.1581\n",
      "Epoch 59/100\n",
      "12/12 [==============================] - 2s 136ms/step - loss: 2.2767e-04 - val_loss: 0.1181\n",
      "Epoch 60/100\n",
      "12/12 [==============================] - 2s 137ms/step - loss: 2.2864e-04 - val_loss: 0.1503\n",
      "Epoch 61/100\n",
      "12/12 [==============================] - 2s 135ms/step - loss: 2.2988e-04 - val_loss: 0.1150\n",
      "Epoch 62/100\n",
      "12/12 [==============================] - 2s 134ms/step - loss: 2.1701e-04 - val_loss: 0.1150\n",
      "Epoch 63/100\n",
      "12/12 [==============================] - 2s 136ms/step - loss: 2.1006e-04 - val_loss: 0.1001\n",
      "Epoch 64/100\n",
      "12/12 [==============================] - 2s 137ms/step - loss: 2.2701e-04 - val_loss: 0.1259\n",
      "Epoch 65/100\n",
      "12/12 [==============================] - 2s 136ms/step - loss: 2.1499e-04 - val_loss: 0.0777\n",
      "Epoch 66/100\n",
      "12/12 [==============================] - 2s 137ms/step - loss: 2.1200e-04 - val_loss: 0.1013\n",
      "Epoch 67/100\n",
      "12/12 [==============================] - 2s 137ms/step - loss: 2.8985e-04 - val_loss: 0.1411\n",
      "Epoch 68/100\n",
      "12/12 [==============================] - 2s 137ms/step - loss: 3.1659e-04 - val_loss: 0.0793\n",
      "Epoch 69/100\n",
      "12/12 [==============================] - 2s 136ms/step - loss: 2.6613e-04 - val_loss: 0.1074\n",
      "Epoch 70/100\n",
      "12/12 [==============================] - 2s 135ms/step - loss: 2.4235e-04 - val_loss: 0.0872\n",
      "Epoch 71/100\n",
      "12/12 [==============================] - 2s 135ms/step - loss: 2.1729e-04 - val_loss: 0.0796\n",
      "Epoch 72/100\n",
      "12/12 [==============================] - 2s 140ms/step - loss: 2.0866e-04 - val_loss: 0.0759\n",
      "Epoch 73/100\n",
      "12/12 [==============================] - 2s 135ms/step - loss: 1.9831e-04 - val_loss: 0.0832\n",
      "Epoch 74/100\n",
      "12/12 [==============================] - 2s 136ms/step - loss: 2.0234e-04 - val_loss: 0.0958\n",
      "Epoch 75/100\n",
      "12/12 [==============================] - 2s 135ms/step - loss: 1.8857e-04 - val_loss: 0.0629\n",
      "Epoch 76/100\n",
      "12/12 [==============================] - 2s 135ms/step - loss: 1.9683e-04 - val_loss: 0.0723\n",
      "Epoch 77/100\n",
      "12/12 [==============================] - 2s 137ms/step - loss: 1.8914e-04 - val_loss: 0.0953\n",
      "Epoch 78/100\n",
      "12/12 [==============================] - 2s 135ms/step - loss: 1.9361e-04 - val_loss: 0.0661\n",
      "Epoch 79/100\n",
      "12/12 [==============================] - 2s 135ms/step - loss: 1.8680e-04 - val_loss: 0.0491\n",
      "Epoch 80/100\n",
      "12/12 [==============================] - 2s 137ms/step - loss: 2.0703e-04 - val_loss: 0.0616\n",
      "Epoch 81/100\n",
      "12/12 [==============================] - 2s 166ms/step - loss: 1.9358e-04 - val_loss: 0.0276\n",
      "Epoch 82/100\n",
      "12/12 [==============================] - 2s 166ms/step - loss: 1.8688e-04 - val_loss: 0.0553\n",
      "Epoch 83/100\n",
      "12/12 [==============================] - 2s 160ms/step - loss: 1.7770e-04 - val_loss: 0.0378\n",
      "Epoch 84/100\n",
      "12/12 [==============================] - 2s 162ms/step - loss: 2.0780e-04 - val_loss: 0.0405\n",
      "Epoch 85/100\n",
      "12/12 [==============================] - 2s 184ms/step - loss: 1.9430e-04 - val_loss: 0.0402\n",
      "Epoch 86/100\n",
      "12/12 [==============================] - 2s 174ms/step - loss: 1.6990e-04 - val_loss: 0.0398\n",
      "Epoch 87/100\n",
      "12/12 [==============================] - 2s 165ms/step - loss: 1.8541e-04 - val_loss: 0.0342\n",
      "Epoch 88/100\n",
      "12/12 [==============================] - 2s 176ms/step - loss: 1.7374e-04 - val_loss: 0.0417\n",
      "Epoch 89/100\n",
      "12/12 [==============================] - 2s 165ms/step - loss: 1.6520e-04 - val_loss: 0.0328\n",
      "Epoch 90/100\n",
      "12/12 [==============================] - 2s 145ms/step - loss: 1.6669e-04 - val_loss: 0.0456\n",
      "Epoch 91/100\n",
      "12/12 [==============================] - 2s 136ms/step - loss: 1.6759e-04 - val_loss: 0.0426\n",
      "Epoch 92/100\n",
      "12/12 [==============================] - 2s 135ms/step - loss: 1.6922e-04 - val_loss: 0.0335\n",
      "Epoch 93/100\n",
      "12/12 [==============================] - 2s 135ms/step - loss: 1.7843e-04 - val_loss: 0.0415\n",
      "Epoch 94/100\n",
      "12/12 [==============================] - 2s 136ms/step - loss: 1.5658e-04 - val_loss: 0.0389\n",
      "Epoch 95/100\n",
      "12/12 [==============================] - 2s 136ms/step - loss: 1.6351e-04 - val_loss: 0.0425\n",
      "Epoch 96/100\n",
      "12/12 [==============================] - 2s 135ms/step - loss: 1.5728e-04 - val_loss: 0.0386\n",
      "Epoch 97/100\n",
      "12/12 [==============================] - 2s 137ms/step - loss: 1.6423e-04 - val_loss: 0.0206\n",
      "Epoch 98/100\n",
      "12/12 [==============================] - 2s 137ms/step - loss: 1.5156e-04 - val_loss: 0.0076\n",
      "Epoch 99/100\n",
      "12/12 [==============================] - 2s 135ms/step - loss: 1.8532e-04 - val_loss: 0.0211\n",
      "Epoch 100/100\n",
      "12/12 [==============================] - 2s 134ms/step - loss: 1.6834e-04 - val_loss: 0.0121\n"
     ]
    },
    {
     "data": {
      "text/plain": [
       "<keras.callbacks.History at 0x23959933a00>"
      ]
     },
     "execution_count": 60,
     "metadata": {},
     "output_type": "execute_result"
    }
   ],
   "source": [
    "model.fit(X_train,y_train,validation_data=(X_test,y_test),epochs=100,batch_size=64)"
   ]
  },
  {
   "cell_type": "code",
   "execution_count": 61,
   "metadata": {},
   "outputs": [
    {
     "data": {
      "text/plain": [
       "[<matplotlib.lines.Line2D at 0x2395d462bb0>]"
      ]
     },
     "execution_count": 61,
     "metadata": {},
     "output_type": "execute_result"
    },
    {
     "data": {
      "image/png": "[encoded data removed]",
      "text/plain": [
       "<Figure size 432x288 with 1 Axes>"
      ]
     },
     "metadata": {
      "needs_background": "light"
     },
     "output_type": "display_data"
    }
   ],
   "source": [
    "loss=model.history.history['loss']\n",
    "plt.plot(loss)"
   ]
  },
  {
   "cell_type": "code",
   "execution_count": 62,
   "metadata": {},
   "outputs": [],
   "source": [
    "#Predict\n",
    "train_predict=model.predict(X_train)\n",
    "test_predict=model.predict(X_test)\n"
   ]
  },
  {
   "cell_type": "code",
   "execution_count": 63,
   "metadata": {},
   "outputs": [],
   "source": [
    "#Transforming back to origna form\n",
    "train_predict=scaler.inverse_transform(train_predict)\n",
    "test_predict=scaler.inverse_transform(test_predict)"
   ]
  },
  {
   "cell_type": "code",
   "execution_count": 64,
   "metadata": {},
   "outputs": [
    {
     "data": {
      "text/plain": [
       "[<matplotlib.lines.Line2D at 0x2395d714340>]"
      ]
     },
     "execution_count": 64,
     "metadata": {},
     "output_type": "execute_result"
    },
    {
     "data": {
      "image/png": "[encoded data removed]",
      "text/plain": [
       "<Figure size 432x288 with 1 Axes>"
      ]
     },
     "metadata": {
      "needs_background": "light"
     },
     "output_type": "display_data"
    }
   ],
   "source": [
    "plt.plot(scaler.inverse_transform(df1))\n",
    "plt.plot(train_predict)\n",
    "plt.plot(test_predict)"
   ]
  },
  {
   "cell_type": "code",
   "execution_count": 65,
   "metadata": {},
   "outputs": [],
   "source": [
    "test=np.vstack((train_predict,test_predict))"
   ]
  },
  {
   "cell_type": "code",
   "execution_count": 66,
   "metadata": {},
   "outputs": [
    {
     "data": {
      "text/plain": [
       "[<matplotlib.lines.Line2D at 0x2395d770c40>]"
      ]
     },
     "execution_count": 66,
     "metadata": {},
     "output_type": "execute_result"
    },
    {
     "data": {
      "image/png": "[encoded data removed]",
      "text/plain": [
       "<Figure size 432x288 with 1 Axes>"
      ]
     },
     "metadata": {
      "needs_background": "light"
     },
     "output_type": "display_data"
    }
   ],
   "source": [
    "plt.plot(scaler.inverse_transform(df1))\n",
    "plt.plot(test)"
   ]
  },
  {
   "cell_type": "code",
   "execution_count": 67,
   "metadata": {},
   "outputs": [
    {
     "data": {
      "text/plain": [
       "1154.275583186619"
      ]
     },
     "execution_count": 67,
     "metadata": {},
     "output_type": "execute_result"
    }
   ],
   "source": [
    "import math\n",
    "from sklearn.metrics import mean_squared_error\n",
    "math.sqrt(mean_squared_error(y_train,train_predict))\n"
   ]
  },
  {
   "cell_type": "code",
   "execution_count": 68,
   "metadata": {},
   "outputs": [
    {
     "data": {
      "text/plain": [
       "2192.416656994637"
      ]
     },
     "execution_count": 68,
     "metadata": {},
     "output_type": "execute_result"
    }
   ],
   "source": [
    "math.sqrt(mean_squared_error(y_test,test_predict))"
   ]
  },
  {
   "cell_type": "code",
   "execution_count": 69,
   "metadata": {},
   "outputs": [
    {
     "data": {
      "text/plain": [
       "441"
      ]
     },
     "execution_count": 69,
     "metadata": {},
     "output_type": "execute_result"
    }
   ],
   "source": [
    "len(test_data)"
   ]
  },
  {
   "cell_type": "code",
   "execution_count": 70,
   "metadata": {},
   "outputs": [
    {
     "data": {
      "text/plain": [
       "(1, 100)"
      ]
     },
     "execution_count": 70,
     "metadata": {},
     "output_type": "execute_result"
    }
   ],
   "source": [
    "x_input=test_data[341:].reshape(1,-1)\n",
    "x_input.shape"
   ]
  },
  {
   "cell_type": "code",
   "execution_count": 71,
   "metadata": {},
   "outputs": [],
   "source": [
    "temp_input=list(x_input)\n",
    "temp_input=temp_input[0].tolist()\n"
   ]
  },
  {
   "cell_type": "code",
   "execution_count": 72,
   "metadata": {},
   "outputs": [
    {
     "name": "stdout",
     "output_type": "stream",
     "text": [
      "[0.79165334]\n",
      "101\n",
      "1 day input [0.91612614 0.89393183 0.89964257 0.91136341 0.91941922 0.92673567\n",
      " 0.91646633 0.86823126 0.85314476 0.84175504 0.87075777 0.84628643\n",
      " 0.86816776 0.87884533 0.89546044 0.90335749 0.89239415 0.87303027\n",
      " 0.88379857 0.91565893 0.91804483 0.92970671 0.93752211 0.92475801\n",
      " 0.92807377 0.89037567 0.8917183  0.8998739  0.96115884 0.95845089\n",
      " 0.97787827 0.93708666 0.95603778 0.96444739 0.98162042 0.98668251\n",
      " 0.98768495 0.98675055 0.9629596  0.96406637 0.99035208 0.98801608\n",
      " 0.98518566 0.98505865 1.         0.99313714 0.96706462 0.96414802\n",
      " 0.96378968 0.9283051  0.95831481 0.92509367 0.91752774 0.93710934\n",
      " 0.92571509 0.93729078 0.97575546 0.98196061 0.97638595 0.98154784\n",
      " 0.96367174 0.94794114 0.96969546 0.94674366 0.92827789 0.92463554\n",
      " 0.94113725 0.96588981 0.96764522 0.97600494 0.96134481 0.96185737\n",
      " 0.9573033  0.94530123 0.94888462 0.94291533 0.88156236 0.88063249\n",
      " 0.87567472 0.889913   0.90300823 0.91779989 0.89496603 0.90091263\n",
      " 0.86919741 0.86340503 0.84394136 0.8129655  0.81550562 0.78251581\n",
      " 0.80523628 0.80415673 0.84197277 0.86382687 0.88360352 0.97575546\n",
      " 0.92689443 0.93021019 0.89321516 0.79165334]\n",
      "1 day input [[0.72146726]]\n",
      "2 day input [0.89393183 0.89964257 0.91136341 0.91941922 0.92673567 0.91646633\n",
      " 0.86823126 0.85314476 0.84175504 0.87075777 0.84628643 0.86816776\n",
      " 0.87884533 0.89546044 0.90335749 0.89239415 0.87303027 0.88379857\n",
      " 0.91565893 0.91804483 0.92970671 0.93752211 0.92475801 0.92807377\n",
      " 0.89037567 0.8917183  0.8998739  0.96115884 0.95845089 0.97787827\n",
      " 0.93708666 0.95603778 0.96444739 0.98162042 0.98668251 0.98768495\n",
      " 0.98675055 0.9629596  0.96406637 0.99035208 0.98801608 0.98518566\n",
      " 0.98505865 1.         0.99313714 0.96706462 0.96414802 0.96378968\n",
      " 0.9283051  0.95831481 0.92509367 0.91752774 0.93710934 0.92571509\n",
      " 0.93729078 0.97575546 0.98196061 0.97638595 0.98154784 0.96367174\n",
      " 0.94794114 0.96969546 0.94674366 0.92827789 0.92463554 0.94113725\n",
      " 0.96588981 0.96764522 0.97600494 0.96134481 0.96185737 0.9573033\n",
      " 0.94530123 0.94888462 0.94291533 0.88156236 0.88063249 0.87567472\n",
      " 0.889913   0.90300823 0.91779989 0.89496603 0.90091263 0.86919741\n",
      " 0.86340503 0.84394136 0.8129655  0.81550562 0.78251581 0.80523628\n",
      " 0.80415673 0.84197277 0.86382687 0.88360352 0.97575546 0.92689443\n",
      " 0.93021019 0.89321516 0.79165334 0.72146726]\n",
      "2 day input [[0.6318806]]\n",
      "3 day input [0.89964257 0.91136341 0.91941922 0.92673567 0.91646633 0.86823126\n",
      " 0.85314476 0.84175504 0.87075777 0.84628643 0.86816776 0.87884533\n",
      " 0.89546044 0.90335749 0.89239415 0.87303027 0.88379857 0.91565893\n",
      " 0.91804483 0.92970671 0.93752211 0.92475801 0.92807377 0.89037567\n",
      " 0.8917183  0.8998739  0.96115884 0.95845089 0.97787827 0.93708666\n",
      " 0.95603778 0.96444739 0.98162042 0.98668251 0.98768495 0.98675055\n",
      " 0.9629596  0.96406637 0.99035208 0.98801608 0.98518566 0.98505865\n",
      " 1.         0.99313714 0.96706462 0.96414802 0.96378968 0.9283051\n",
      " 0.95831481 0.92509367 0.91752774 0.93710934 0.92571509 0.93729078\n",
      " 0.97575546 0.98196061 0.97638595 0.98154784 0.96367174 0.94794114\n",
      " 0.96969546 0.94674366 0.92827789 0.92463554 0.94113725 0.96588981\n",
      " 0.96764522 0.97600494 0.96134481 0.96185737 0.9573033  0.94530123\n",
      " 0.94888462 0.94291533 0.88156236 0.88063249 0.87567472 0.889913\n",
      " 0.90300823 0.91779989 0.89496603 0.90091263 0.86919741 0.86340503\n",
      " 0.84394136 0.8129655  0.81550562 0.78251581 0.80523628 0.80415673\n",
      " 0.84197277 0.86382687 0.88360352 0.97575546 0.92689443 0.93021019\n",
      " 0.89321516 0.79165334 0.72146726 0.63188058]\n",
      "3 day input [[0.5341858]]\n",
      "4 day input [0.91136341 0.91941922 0.92673567 0.91646633 0.86823126 0.85314476\n",
      " 0.84175504 0.87075777 0.84628643 0.86816776 0.87884533 0.89546044\n",
      " 0.90335749 0.89239415 0.87303027 0.88379857 0.91565893 0.91804483\n",
      " 0.92970671 0.93752211 0.92475801 0.92807377 0.89037567 0.8917183\n",
      " 0.8998739  0.96115884 0.95845089 0.97787827 0.93708666 0.95603778\n",
      " 0.96444739 0.98162042 0.98668251 0.98768495 0.98675055 0.9629596\n",
      " 0.96406637 0.99035208 0.98801608 0.98518566 0.98505865 1.\n",
      " 0.99313714 0.96706462 0.96414802 0.96378968 0.9283051  0.95831481\n",
      " 0.92509367 0.91752774 0.93710934 0.92571509 0.93729078 0.97575546\n",
      " 0.98196061 0.97638595 0.98154784 0.96367174 0.94794114 0.96969546\n",
      " 0.94674366 0.92827789 0.92463554 0.94113725 0.96588981 0.96764522\n",
      " 0.97600494 0.96134481 0.96185737 0.9573033  0.94530123 0.94888462\n",
      " 0.94291533 0.88156236 0.88063249 0.87567472 0.889913   0.90300823\n",
      " 0.91779989 0.89496603 0.90091263 0.86919741 0.86340503 0.84394136\n",
      " 0.8129655  0.81550562 0.78251581 0.80523628 0.80415673 0.84197277\n",
      " 0.86382687 0.88360352 0.97575546 0.92689443 0.93021019 0.89321516\n",
      " 0.79165334 0.72146726 0.63188058 0.53418583]\n",
      "4 day input [[0.43196777]]\n",
      "5 day input [0.91941922 0.92673567 0.91646633 0.86823126 0.85314476 0.84175504\n",
      " 0.87075777 0.84628643 0.86816776 0.87884533 0.89546044 0.90335749\n",
      " 0.89239415 0.87303027 0.88379857 0.91565893 0.91804483 0.92970671\n",
      " 0.93752211 0.92475801 0.92807377 0.89037567 0.8917183  0.8998739\n",
      " 0.96115884 0.95845089 0.97787827 0.93708666 0.95603778 0.96444739\n",
      " 0.98162042 0.98668251 0.98768495 0.98675055 0.9629596  0.96406637\n",
      " 0.99035208 0.98801608 0.98518566 0.98505865 1.         0.99313714\n",
      " 0.96706462 0.96414802 0.96378968 0.9283051  0.95831481 0.92509367\n",
      " 0.91752774 0.93710934 0.92571509 0.93729078 0.97575546 0.98196061\n",
      " 0.97638595 0.98154784 0.96367174 0.94794114 0.96969546 0.94674366\n",
      " 0.92827789 0.92463554 0.94113725 0.96588981 0.96764522 0.97600494\n",
      " 0.96134481 0.96185737 0.9573033  0.94530123 0.94888462 0.94291533\n",
      " 0.88156236 0.88063249 0.87567472 0.889913   0.90300823 0.91779989\n",
      " 0.89496603 0.90091263 0.86919741 0.86340503 0.84394136 0.8129655\n",
      " 0.81550562 0.78251581 0.80523628 0.80415673 0.84197277 0.86382687\n",
      " 0.88360352 0.97575546 0.92689443 0.93021019 0.89321516 0.79165334\n",
      " 0.72146726 0.63188058 0.53418583 0.43196777]\n",
      "5 day input [[0.32574576]]\n",
      "6 day input [0.92673567 0.91646633 0.86823126 0.85314476 0.84175504 0.87075777\n",
      " 0.84628643 0.86816776 0.87884533 0.89546044 0.90335749 0.89239415\n",
      " 0.87303027 0.88379857 0.91565893 0.91804483 0.92970671 0.93752211\n",
      " 0.92475801 0.92807377 0.89037567 0.8917183  0.8998739  0.96115884\n",
      " 0.95845089 0.97787827 0.93708666 0.95603778 0.96444739 0.98162042\n",
      " 0.98668251 0.98768495 0.98675055 0.9629596  0.96406637 0.99035208\n",
      " 0.98801608 0.98518566 0.98505865 1.         0.99313714 0.96706462\n",
      " 0.96414802 0.96378968 0.9283051  0.95831481 0.92509367 0.91752774\n",
      " 0.93710934 0.92571509 0.93729078 0.97575546 0.98196061 0.97638595\n",
      " 0.98154784 0.96367174 0.94794114 0.96969546 0.94674366 0.92827789\n",
      " 0.92463554 0.94113725 0.96588981 0.96764522 0.97600494 0.96134481\n",
      " 0.96185737 0.9573033  0.94530123 0.94888462 0.94291533 0.88156236\n",
      " 0.88063249 0.87567472 0.889913   0.90300823 0.91779989 0.89496603\n",
      " 0.90091263 0.86919741 0.86340503 0.84394136 0.8129655  0.81550562\n",
      " 0.78251581 0.80523628 0.80415673 0.84197277 0.86382687 0.88360352\n",
      " 0.97575546 0.92689443 0.93021019 0.89321516 0.79165334 0.72146726\n",
      " 0.63188058 0.53418583 0.43196777 0.32574576]\n",
      "6 day input [[0.21430314]]\n",
      "7 day input [0.91646633 0.86823126 0.85314476 0.84175504 0.87075777 0.84628643\n",
      " 0.86816776 0.87884533 0.89546044 0.90335749 0.89239415 0.87303027\n",
      " 0.88379857 0.91565893 0.91804483 0.92970671 0.93752211 0.92475801\n",
      " 0.92807377 0.89037567 0.8917183  0.8998739  0.96115884 0.95845089\n",
      " 0.97787827 0.93708666 0.95603778 0.96444739 0.98162042 0.98668251\n",
      " 0.98768495 0.98675055 0.9629596  0.96406637 0.99035208 0.98801608\n",
      " 0.98518566 0.98505865 1.         0.99313714 0.96706462 0.96414802\n",
      " 0.96378968 0.9283051  0.95831481 0.92509367 0.91752774 0.93710934\n",
      " 0.92571509 0.93729078 0.97575546 0.98196061 0.97638595 0.98154784\n",
      " 0.96367174 0.94794114 0.96969546 0.94674366 0.92827789 0.92463554\n",
      " 0.94113725 0.96588981 0.96764522 0.97600494 0.96134481 0.96185737\n",
      " 0.9573033  0.94530123 0.94888462 0.94291533 0.88156236 0.88063249\n",
      " 0.87567472 0.889913   0.90300823 0.91779989 0.89496603 0.90091263\n",
      " 0.86919741 0.86340503 0.84394136 0.8129655  0.81550562 0.78251581\n",
      " 0.80523628 0.80415673 0.84197277 0.86382687 0.88360352 0.97575546\n",
      " 0.92689443 0.93021019 0.89321516 0.79165334 0.72146726 0.63188058\n",
      " 0.53418583 0.43196777 0.32574576 0.21430314]\n",
      "7 day input [[0.09542949]]\n",
      "8 day input [0.86823126 0.85314476 0.84175504 0.87075777 0.84628643 0.86816776\n",
      " 0.87884533 0.89546044 0.90335749 0.89239415 0.87303027 0.88379857\n",
      " 0.91565893 0.91804483 0.92970671 0.93752211 0.92475801 0.92807377\n",
      " 0.89037567 0.8917183  0.8998739  0.96115884 0.95845089 0.97787827\n",
      " 0.93708666 0.95603778 0.96444739 0.98162042 0.98668251 0.98768495\n",
      " 0.98675055 0.9629596  0.96406637 0.99035208 0.98801608 0.98518566\n",
      " 0.98505865 1.         0.99313714 0.96706462 0.96414802 0.96378968\n",
      " 0.9283051  0.95831481 0.92509367 0.91752774 0.93710934 0.92571509\n",
      " 0.93729078 0.97575546 0.98196061 0.97638595 0.98154784 0.96367174\n",
      " 0.94794114 0.96969546 0.94674366 0.92827789 0.92463554 0.94113725\n",
      " 0.96588981 0.96764522 0.97600494 0.96134481 0.96185737 0.9573033\n",
      " 0.94530123 0.94888462 0.94291533 0.88156236 0.88063249 0.87567472\n",
      " 0.889913   0.90300823 0.91779989 0.89496603 0.90091263 0.86919741\n",
      " 0.86340503 0.84394136 0.8129655  0.81550562 0.78251581 0.80523628\n",
      " 0.80415673 0.84197277 0.86382687 0.88360352 0.97575546 0.92689443\n",
      " 0.93021019 0.89321516 0.79165334 0.72146726 0.63188058 0.53418583\n",
      " 0.43196777 0.32574576 0.21430314 0.09542949]\n",
      "8 day input [[-0.03243025]]\n",
      "9 day input [ 0.85314476  0.84175504  0.87075777  0.84628643  0.86816776  0.87884533\n",
      "  0.89546044  0.90335749  0.89239415  0.87303027  0.88379857  0.91565893\n",
      "  0.91804483  0.92970671  0.93752211  0.92475801  0.92807377  0.89037567\n",
      "  0.8917183   0.8998739   0.96115884  0.95845089  0.97787827  0.93708666\n",
      "  0.95603778  0.96444739  0.98162042  0.98668251  0.98768495  0.98675055\n",
      "  0.9629596   0.96406637  0.99035208  0.98801608  0.98518566  0.98505865\n",
      "  1.          0.99313714  0.96706462  0.96414802  0.96378968  0.9283051\n",
      "  0.95831481  0.92509367  0.91752774  0.93710934  0.92571509  0.93729078\n",
      "  0.97575546  0.98196061  0.97638595  0.98154784  0.96367174  0.94794114\n",
      "  0.96969546  0.94674366  0.92827789  0.92463554  0.94113725  0.96588981\n",
      "  0.96764522  0.97600494  0.96134481  0.96185737  0.9573033   0.94530123\n",
      "  0.94888462  0.94291533  0.88156236  0.88063249  0.87567472  0.889913\n",
      "  0.90300823  0.91779989  0.89496603  0.90091263  0.86919741  0.86340503\n",
      "  0.84394136  0.8129655   0.81550562  0.78251581  0.80523628  0.80415673\n",
      "  0.84197277  0.86382687  0.88360352  0.97575546  0.92689443  0.93021019\n",
      "  0.89321516  0.79165334  0.72146726  0.63188058  0.53418583  0.43196777\n",
      "  0.32574576  0.21430314  0.09542949 -0.03243025]\n",
      "9 day input [[-0.16700977]]\n",
      "10 day input [ 0.84175504  0.87075777  0.84628643  0.86816776  0.87884533  0.89546044\n",
      "  0.90335749  0.89239415  0.87303027  0.88379857  0.91565893  0.91804483\n",
      "  0.92970671  0.93752211  0.92475801  0.92807377  0.89037567  0.8917183\n",
      "  0.8998739   0.96115884  0.95845089  0.97787827  0.93708666  0.95603778\n",
      "  0.96444739  0.98162042  0.98668251  0.98768495  0.98675055  0.9629596\n",
      "  0.96406637  0.99035208  0.98801608  0.98518566  0.98505865  1.\n",
      "  0.99313714  0.96706462  0.96414802  0.96378968  0.9283051   0.95831481\n",
      "  0.92509367  0.91752774  0.93710934  0.92571509  0.93729078  0.97575546\n",
      "  0.98196061  0.97638595  0.98154784  0.96367174  0.94794114  0.96969546\n",
      "  0.94674366  0.92827789  0.92463554  0.94113725  0.96588981  0.96764522\n",
      "  0.97600494  0.96134481  0.96185737  0.9573033   0.94530123  0.94888462\n",
      "  0.94291533  0.88156236  0.88063249  0.87567472  0.889913    0.90300823\n",
      "  0.91779989  0.89496603  0.90091263  0.86919741  0.86340503  0.84394136\n",
      "  0.8129655   0.81550562  0.78251581  0.80523628  0.80415673  0.84197277\n",
      "  0.86382687  0.88360352  0.97575546  0.92689443  0.93021019  0.89321516\n",
      "  0.79165334  0.72146726  0.63188058  0.53418583  0.43196777  0.32574576\n",
      "  0.21430314  0.09542949 -0.03243025 -0.16700977]\n",
      "10 day input [[-0.29853103]]\n",
      "11 day input [ 0.87075777  0.84628643  0.86816776  0.87884533  0.89546044  0.90335749\n",
      "  0.89239415  0.87303027  0.88379857  0.91565893  0.91804483  0.92970671\n",
      "  0.93752211  0.92475801  0.92807377  0.89037567  0.8917183   0.8998739\n",
      "  0.96115884  0.95845089  0.97787827  0.93708666  0.95603778  0.96444739\n",
      "  0.98162042  0.98668251  0.98768495  0.98675055  0.9629596   0.96406637\n",
      "  0.99035208  0.98801608  0.98518566  0.98505865  1.          0.99313714\n",
      "  0.96706462  0.96414802  0.96378968  0.9283051   0.95831481  0.92509367\n",
      "  0.91752774  0.93710934  0.92571509  0.93729078  0.97575546  0.98196061\n",
      "  0.97638595  0.98154784  0.96367174  0.94794114  0.96969546  0.94674366\n",
      "  0.92827789  0.92463554  0.94113725  0.96588981  0.96764522  0.97600494\n",
      "  0.96134481  0.96185737  0.9573033   0.94530123  0.94888462  0.94291533\n",
      "  0.88156236  0.88063249  0.87567472  0.889913    0.90300823  0.91779989\n",
      "  0.89496603  0.90091263  0.86919741  0.86340503  0.84394136  0.8129655\n",
      "  0.81550562  0.78251581  0.80523628  0.80415673  0.84197277  0.86382687\n",
      "  0.88360352  0.97575546  0.92689443  0.93021019  0.89321516  0.79165334\n",
      "  0.72146726  0.63188058  0.53418583  0.43196777  0.32574576  0.21430314\n",
      "  0.09542949 -0.03243025 -0.16700977 -0.29853103]\n",
      "11 day input [[-0.4102395]]\n",
      "12 day input [ 0.84628643  0.86816776  0.87884533  0.89546044  0.90335749  0.89239415\n",
      "  0.87303027  0.88379857  0.91565893  0.91804483  0.92970671  0.93752211\n",
      "  0.92475801  0.92807377  0.89037567  0.8917183   0.8998739   0.96115884\n",
      "  0.95845089  0.97787827  0.93708666  0.95603778  0.96444739  0.98162042\n",
      "  0.98668251  0.98768495  0.98675055  0.9629596   0.96406637  0.99035208\n",
      "  0.98801608  0.98518566  0.98505865  1.          0.99313714  0.96706462\n",
      "  0.96414802  0.96378968  0.9283051   0.95831481  0.92509367  0.91752774\n",
      "  0.93710934  0.92571509  0.93729078  0.97575546  0.98196061  0.97638595\n",
      "  0.98154784  0.96367174  0.94794114  0.96969546  0.94674366  0.92827789\n",
      "  0.92463554  0.94113725  0.96588981  0.96764522  0.97600494  0.96134481\n",
      "  0.96185737  0.9573033   0.94530123  0.94888462  0.94291533  0.88156236\n",
      "  0.88063249  0.87567472  0.889913    0.90300823  0.91779989  0.89496603\n",
      "  0.90091263  0.86919741  0.86340503  0.84394136  0.8129655   0.81550562\n",
      "  0.78251581  0.80523628  0.80415673  0.84197277  0.86382687  0.88360352\n",
      "  0.97575546  0.92689443  0.93021019  0.89321516  0.79165334  0.72146726\n",
      "  0.63188058  0.53418583  0.43196777  0.32574576  0.21430314  0.09542949\n",
      " -0.03243025 -0.16700977 -0.29853103 -0.41023949]\n",
      "12 day input [[-0.48780683]]\n",
      "13 day input [ 0.86816776  0.87884533  0.89546044  0.90335749  0.89239415  0.87303027\n",
      "  0.88379857  0.91565893  0.91804483  0.92970671  0.93752211  0.92475801\n",
      "  0.92807377  0.89037567  0.8917183   0.8998739   0.96115884  0.95845089\n",
      "  0.97787827  0.93708666  0.95603778  0.96444739  0.98162042  0.98668251\n",
      "  0.98768495  0.98675055  0.9629596   0.96406637  0.99035208  0.98801608\n",
      "  0.98518566  0.98505865  1.          0.99313714  0.96706462  0.96414802\n",
      "  0.96378968  0.9283051   0.95831481  0.92509367  0.91752774  0.93710934\n",
      "  0.92571509  0.93729078  0.97575546  0.98196061  0.97638595  0.98154784\n",
      "  0.96367174  0.94794114  0.96969546  0.94674366  0.92827789  0.92463554\n",
      "  0.94113725  0.96588981  0.96764522  0.97600494  0.96134481  0.96185737\n",
      "  0.9573033   0.94530123  0.94888462  0.94291533  0.88156236  0.88063249\n",
      "  0.87567472  0.889913    0.90300823  0.91779989  0.89496603  0.90091263\n",
      "  0.86919741  0.86340503  0.84394136  0.8129655   0.81550562  0.78251581\n",
      "  0.80523628  0.80415673  0.84197277  0.86382687  0.88360352  0.97575546\n",
      "  0.92689443  0.93021019  0.89321516  0.79165334  0.72146726  0.63188058\n",
      "  0.53418583  0.43196777  0.32574576  0.21430314  0.09542949 -0.03243025\n",
      " -0.16700977 -0.29853103 -0.41023949 -0.48780683]\n",
      "13 day input [[-0.52956825]]\n",
      "14 day input [ 0.87884533  0.89546044  0.90335749  0.89239415  0.87303027  0.88379857\n",
      "  0.91565893  0.91804483  0.92970671  0.93752211  0.92475801  0.92807377\n",
      "  0.89037567  0.8917183   0.8998739   0.96115884  0.95845089  0.97787827\n",
      "  0.93708666  0.95603778  0.96444739  0.98162042  0.98668251  0.98768495\n",
      "  0.98675055  0.9629596   0.96406637  0.99035208  0.98801608  0.98518566\n",
      "  0.98505865  1.          0.99313714  0.96706462  0.96414802  0.96378968\n",
      "  0.9283051   0.95831481  0.92509367  0.91752774  0.93710934  0.92571509\n",
      "  0.93729078  0.97575546  0.98196061  0.97638595  0.98154784  0.96367174\n",
      "  0.94794114  0.96969546  0.94674366  0.92827789  0.92463554  0.94113725\n",
      "  0.96588981  0.96764522  0.97600494  0.96134481  0.96185737  0.9573033\n",
      "  0.94530123  0.94888462  0.94291533  0.88156236  0.88063249  0.87567472\n",
      "  0.889913    0.90300823  0.91779989  0.89496603  0.90091263  0.86919741\n",
      "  0.86340503  0.84394136  0.8129655   0.81550562  0.78251581  0.80523628\n",
      "  0.80415673  0.84197277  0.86382687  0.88360352  0.97575546  0.92689443\n",
      "  0.93021019  0.89321516  0.79165334  0.72146726  0.63188058  0.53418583\n",
      "  0.43196777  0.32574576  0.21430314  0.09542949 -0.03243025 -0.16700977\n",
      " -0.29853103 -0.41023949 -0.48780683 -0.52956825]\n",
      "14 day input [[-0.54462236]]\n",
      "15 day input [ 0.89546044  0.90335749  0.89239415  0.87303027  0.88379857  0.91565893\n",
      "  0.91804483  0.92970671  0.93752211  0.92475801  0.92807377  0.89037567\n",
      "  0.8917183   0.8998739   0.96115884  0.95845089  0.97787827  0.93708666\n",
      "  0.95603778  0.96444739  0.98162042  0.98668251  0.98768495  0.98675055\n",
      "  0.9629596   0.96406637  0.99035208  0.98801608  0.98518566  0.98505865\n",
      "  1.          0.99313714  0.96706462  0.96414802  0.96378968  0.9283051\n",
      "  0.95831481  0.92509367  0.91752774  0.93710934  0.92571509  0.93729078\n",
      "  0.97575546  0.98196061  0.97638595  0.98154784  0.96367174  0.94794114\n",
      "  0.96969546  0.94674366  0.92827789  0.92463554  0.94113725  0.96588981\n",
      "  0.96764522  0.97600494  0.96134481  0.96185737  0.9573033   0.94530123\n",
      "  0.94888462  0.94291533  0.88156236  0.88063249  0.87567472  0.889913\n",
      "  0.90300823  0.91779989  0.89496603  0.90091263  0.86919741  0.86340503\n",
      "  0.84394136  0.8129655   0.81550562  0.78251581  0.80523628  0.80415673\n",
      "  0.84197277  0.86382687  0.88360352  0.97575546  0.92689443  0.93021019\n",
      "  0.89321516  0.79165334  0.72146726  0.63188058  0.53418583  0.43196777\n",
      "  0.32574576  0.21430314  0.09542949 -0.03243025 -0.16700977 -0.29853103\n",
      " -0.41023949 -0.48780683 -0.52956825 -0.54462236]\n",
      "15 day input [[-0.543938]]\n",
      "16 day input [ 0.90335749  0.89239415  0.87303027  0.88379857  0.91565893  0.91804483\n",
      "  0.92970671  0.93752211  0.92475801  0.92807377  0.89037567  0.8917183\n",
      "  0.8998739   0.96115884  0.95845089  0.97787827  0.93708666  0.95603778\n",
      "  0.96444739  0.98162042  0.98668251  0.98768495  0.98675055  0.9629596\n",
      "  0.96406637  0.99035208  0.98801608  0.98518566  0.98505865  1.\n",
      "  0.99313714  0.96706462  0.96414802  0.96378968  0.9283051   0.95831481\n",
      "  0.92509367  0.91752774  0.93710934  0.92571509  0.93729078  0.97575546\n",
      "  0.98196061  0.97638595  0.98154784  0.96367174  0.94794114  0.96969546\n",
      "  0.94674366  0.92827789  0.92463554  0.94113725  0.96588981  0.96764522\n",
      "  0.97600494  0.96134481  0.96185737  0.9573033   0.94530123  0.94888462\n",
      "  0.94291533  0.88156236  0.88063249  0.87567472  0.889913    0.90300823\n",
      "  0.91779989  0.89496603  0.90091263  0.86919741  0.86340503  0.84394136\n",
      "  0.8129655   0.81550562  0.78251581  0.80523628  0.80415673  0.84197277\n",
      "  0.86382687  0.88360352  0.97575546  0.92689443  0.93021019  0.89321516\n",
      "  0.79165334  0.72146726  0.63188058  0.53418583  0.43196777  0.32574576\n",
      "  0.21430314  0.09542949 -0.03243025 -0.16700977 -0.29853103 -0.41023949\n",
      " -0.48780683 -0.52956825 -0.54462236 -0.54393798]\n",
      "16 day input [[-0.5351217]]\n",
      "17 day input [ 0.89239415  0.87303027  0.88379857  0.91565893  0.91804483  0.92970671\n",
      "  0.93752211  0.92475801  0.92807377  0.89037567  0.8917183   0.8998739\n",
      "  0.96115884  0.95845089  0.97787827  0.93708666  0.95603778  0.96444739\n",
      "  0.98162042  0.98668251  0.98768495  0.98675055  0.9629596   0.96406637\n",
      "  0.99035208  0.98801608  0.98518566  0.98505865  1.          0.99313714\n",
      "  0.96706462  0.96414802  0.96378968  0.9283051   0.95831481  0.92509367\n",
      "  0.91752774  0.93710934  0.92571509  0.93729078  0.97575546  0.98196061\n",
      "  0.97638595  0.98154784  0.96367174  0.94794114  0.96969546  0.94674366\n",
      "  0.92827789  0.92463554  0.94113725  0.96588981  0.96764522  0.97600494\n",
      "  0.96134481  0.96185737  0.9573033   0.94530123  0.94888462  0.94291533\n",
      "  0.88156236  0.88063249  0.87567472  0.889913    0.90300823  0.91779989\n",
      "  0.89496603  0.90091263  0.86919741  0.86340503  0.84394136  0.8129655\n",
      "  0.81550562  0.78251581  0.80523628  0.80415673  0.84197277  0.86382687\n",
      "  0.88360352  0.97575546  0.92689443  0.93021019  0.89321516  0.79165334\n",
      "  0.72146726  0.63188058  0.53418583  0.43196777  0.32574576  0.21430314\n",
      "  0.09542949 -0.03243025 -0.16700977 -0.29853103 -0.41023949 -0.48780683\n",
      " -0.52956825 -0.54462236 -0.54393798 -0.53512168]\n",
      "17 day input [[-0.5218109]]\n",
      "18 day input [ 0.87303027  0.88379857  0.91565893  0.91804483  0.92970671  0.93752211\n",
      "  0.92475801  0.92807377  0.89037567  0.8917183   0.8998739   0.96115884\n",
      "  0.95845089  0.97787827  0.93708666  0.95603778  0.96444739  0.98162042\n",
      "  0.98668251  0.98768495  0.98675055  0.9629596   0.96406637  0.99035208\n",
      "  0.98801608  0.98518566  0.98505865  1.          0.99313714  0.96706462\n",
      "  0.96414802  0.96378968  0.9283051   0.95831481  0.92509367  0.91752774\n",
      "  0.93710934  0.92571509  0.93729078  0.97575546  0.98196061  0.97638595\n",
      "  0.98154784  0.96367174  0.94794114  0.96969546  0.94674366  0.92827789\n",
      "  0.92463554  0.94113725  0.96588981  0.96764522  0.97600494  0.96134481\n",
      "  0.96185737  0.9573033   0.94530123  0.94888462  0.94291533  0.88156236\n",
      "  0.88063249  0.87567472  0.889913    0.90300823  0.91779989  0.89496603\n",
      "  0.90091263  0.86919741  0.86340503  0.84394136  0.8129655   0.81550562\n",
      "  0.78251581  0.80523628  0.80415673  0.84197277  0.86382687  0.88360352\n",
      "  0.97575546  0.92689443  0.93021019  0.89321516  0.79165334  0.72146726\n",
      "  0.63188058  0.53418583  0.43196777  0.32574576  0.21430314  0.09542949\n",
      " -0.03243025 -0.16700977 -0.29853103 -0.41023949 -0.48780683 -0.52956825\n",
      " -0.54462236 -0.54393798 -0.53512168 -0.52181089]\n",
      "18 day input [[-0.5053396]]\n",
      "19 day input [ 0.88379857  0.91565893  0.91804483  0.92970671  0.93752211  0.92475801\n",
      "  0.92807377  0.89037567  0.8917183   0.8998739   0.96115884  0.95845089\n",
      "  0.97787827  0.93708666  0.95603778  0.96444739  0.98162042  0.98668251\n",
      "  0.98768495  0.98675055  0.9629596   0.96406637  0.99035208  0.98801608\n",
      "  0.98518566  0.98505865  1.          0.99313714  0.96706462  0.96414802\n",
      "  0.96378968  0.9283051   0.95831481  0.92509367  0.91752774  0.93710934\n",
      "  0.92571509  0.93729078  0.97575546  0.98196061  0.97638595  0.98154784\n",
      "  0.96367174  0.94794114  0.96969546  0.94674366  0.92827789  0.92463554\n",
      "  0.94113725  0.96588981  0.96764522  0.97600494  0.96134481  0.96185737\n",
      "  0.9573033   0.94530123  0.94888462  0.94291533  0.88156236  0.88063249\n",
      "  0.87567472  0.889913    0.90300823  0.91779989  0.89496603  0.90091263\n",
      "  0.86919741  0.86340503  0.84394136  0.8129655   0.81550562  0.78251581\n",
      "  0.80523628  0.80415673  0.84197277  0.86382687  0.88360352  0.97575546\n",
      "  0.92689443  0.93021019  0.89321516  0.79165334  0.72146726  0.63188058\n",
      "  0.53418583  0.43196777  0.32574576  0.21430314  0.09542949 -0.03243025\n",
      " -0.16700977 -0.29853103 -0.41023949 -0.48780683 -0.52956825 -0.54462236\n",
      " -0.54393798 -0.53512168 -0.52181089 -0.50533962]\n",
      "19 day input [[-0.48625898]]\n",
      "20 day input [ 0.91565893  0.91804483  0.92970671  0.93752211  0.92475801  0.92807377\n",
      "  0.89037567  0.8917183   0.8998739   0.96115884  0.95845089  0.97787827\n",
      "  0.93708666  0.95603778  0.96444739  0.98162042  0.98668251  0.98768495\n",
      "  0.98675055  0.9629596   0.96406637  0.99035208  0.98801608  0.98518566\n",
      "  0.98505865  1.          0.99313714  0.96706462  0.96414802  0.96378968\n",
      "  0.9283051   0.95831481  0.92509367  0.91752774  0.93710934  0.92571509\n",
      "  0.93729078  0.97575546  0.98196061  0.97638595  0.98154784  0.96367174\n",
      "  0.94794114  0.96969546  0.94674366  0.92827789  0.92463554  0.94113725\n",
      "  0.96588981  0.96764522  0.97600494  0.96134481  0.96185737  0.9573033\n",
      "  0.94530123  0.94888462  0.94291533  0.88156236  0.88063249  0.87567472\n",
      "  0.889913    0.90300823  0.91779989  0.89496603  0.90091263  0.86919741\n",
      "  0.86340503  0.84394136  0.8129655   0.81550562  0.78251581  0.80523628\n",
      "  0.80415673  0.84197277  0.86382687  0.88360352  0.97575546  0.92689443\n",
      "  0.93021019  0.89321516  0.79165334  0.72146726  0.63188058  0.53418583\n",
      "  0.43196777  0.32574576  0.21430314  0.09542949 -0.03243025 -0.16700977\n",
      " -0.29853103 -0.41023949 -0.48780683 -0.52956825 -0.54462236 -0.54393798\n",
      " -0.53512168 -0.52181089 -0.50533962 -0.48625898]\n",
      "20 day input [[-0.46492478]]\n",
      "21 day input [ 0.91804483  0.92970671  0.93752211  0.92475801  0.92807377  0.89037567\n",
      "  0.8917183   0.8998739   0.96115884  0.95845089  0.97787827  0.93708666\n",
      "  0.95603778  0.96444739  0.98162042  0.98668251  0.98768495  0.98675055\n",
      "  0.9629596   0.96406637  0.99035208  0.98801608  0.98518566  0.98505865\n",
      "  1.          0.99313714  0.96706462  0.96414802  0.96378968  0.9283051\n",
      "  0.95831481  0.92509367  0.91752774  0.93710934  0.92571509  0.93729078\n",
      "  0.97575546  0.98196061  0.97638595  0.98154784  0.96367174  0.94794114\n",
      "  0.96969546  0.94674366  0.92827789  0.92463554  0.94113725  0.96588981\n",
      "  0.96764522  0.97600494  0.96134481  0.96185737  0.9573033   0.94530123\n",
      "  0.94888462  0.94291533  0.88156236  0.88063249  0.87567472  0.889913\n",
      "  0.90300823  0.91779989  0.89496603  0.90091263  0.86919741  0.86340503\n",
      "  0.84394136  0.8129655   0.81550562  0.78251581  0.80523628  0.80415673\n",
      "  0.84197277  0.86382687  0.88360352  0.97575546  0.92689443  0.93021019\n",
      "  0.89321516  0.79165334  0.72146726  0.63188058  0.53418583  0.43196777\n",
      "  0.32574576  0.21430314  0.09542949 -0.03243025 -0.16700977 -0.29853103\n",
      " -0.41023949 -0.48780683 -0.52956825 -0.54462236 -0.54393798 -0.53512168\n",
      " -0.52181089 -0.50533962 -0.48625898 -0.46492478]\n",
      "21 day input [[-0.4417721]]\n",
      "22 day input [ 0.92970671  0.93752211  0.92475801  0.92807377  0.89037567  0.8917183\n",
      "  0.8998739   0.96115884  0.95845089  0.97787827  0.93708666  0.95603778\n",
      "  0.96444739  0.98162042  0.98668251  0.98768495  0.98675055  0.9629596\n",
      "  0.96406637  0.99035208  0.98801608  0.98518566  0.98505865  1.\n",
      "  0.99313714  0.96706462  0.96414802  0.96378968  0.9283051   0.95831481\n",
      "  0.92509367  0.91752774  0.93710934  0.92571509  0.93729078  0.97575546\n",
      "  0.98196061  0.97638595  0.98154784  0.96367174  0.94794114  0.96969546\n",
      "  0.94674366  0.92827789  0.92463554  0.94113725  0.96588981  0.96764522\n",
      "  0.97600494  0.96134481  0.96185737  0.9573033   0.94530123  0.94888462\n",
      "  0.94291533  0.88156236  0.88063249  0.87567472  0.889913    0.90300823\n",
      "  0.91779989  0.89496603  0.90091263  0.86919741  0.86340503  0.84394136\n",
      "  0.8129655   0.81550562  0.78251581  0.80523628  0.80415673  0.84197277\n",
      "  0.86382687  0.88360352  0.97575546  0.92689443  0.93021019  0.89321516\n",
      "  0.79165334  0.72146726  0.63188058  0.53418583  0.43196777  0.32574576\n",
      "  0.21430314  0.09542949 -0.03243025 -0.16700977 -0.29853103 -0.41023949\n",
      " -0.48780683 -0.52956825 -0.54462236 -0.54393798 -0.53512168 -0.52181089\n",
      " -0.50533962 -0.48625898 -0.46492478 -0.4417721 ]\n",
      "22 day input [[-0.41747746]]\n",
      "23 day input [ 0.93752211  0.92475801  0.92807377  0.89037567  0.8917183   0.8998739\n",
      "  0.96115884  0.95845089  0.97787827  0.93708666  0.95603778  0.96444739\n",
      "  0.98162042  0.98668251  0.98768495  0.98675055  0.9629596   0.96406637\n",
      "  0.99035208  0.98801608  0.98518566  0.98505865  1.          0.99313714\n",
      "  0.96706462  0.96414802  0.96378968  0.9283051   0.95831481  0.92509367\n",
      "  0.91752774  0.93710934  0.92571509  0.93729078  0.97575546  0.98196061\n",
      "  0.97638595  0.98154784  0.96367174  0.94794114  0.96969546  0.94674366\n",
      "  0.92827789  0.92463554  0.94113725  0.96588981  0.96764522  0.97600494\n",
      "  0.96134481  0.96185737  0.9573033   0.94530123  0.94888462  0.94291533\n",
      "  0.88156236  0.88063249  0.87567472  0.889913    0.90300823  0.91779989\n",
      "  0.89496603  0.90091263  0.86919741  0.86340503  0.84394136  0.8129655\n",
      "  0.81550562  0.78251581  0.80523628  0.80415673  0.84197277  0.86382687\n",
      "  0.88360352  0.97575546  0.92689443  0.93021019  0.89321516  0.79165334\n",
      "  0.72146726  0.63188058  0.53418583  0.43196777  0.32574576  0.21430314\n",
      "  0.09542949 -0.03243025 -0.16700977 -0.29853103 -0.41023949 -0.48780683\n",
      " -0.52956825 -0.54462236 -0.54393798 -0.53512168 -0.52181089 -0.50533962\n",
      " -0.48625898 -0.46492478 -0.4417721  -0.41747746]\n",
      "23 day input [[-0.39288822]]\n",
      "24 day input [ 0.92475801  0.92807377  0.89037567  0.8917183   0.8998739   0.96115884\n",
      "  0.95845089  0.97787827  0.93708666  0.95603778  0.96444739  0.98162042\n",
      "  0.98668251  0.98768495  0.98675055  0.9629596   0.96406637  0.99035208\n",
      "  0.98801608  0.98518566  0.98505865  1.          0.99313714  0.96706462\n",
      "  0.96414802  0.96378968  0.9283051   0.95831481  0.92509367  0.91752774\n",
      "  0.93710934  0.92571509  0.93729078  0.97575546  0.98196061  0.97638595\n",
      "  0.98154784  0.96367174  0.94794114  0.96969546  0.94674366  0.92827789\n",
      "  0.92463554  0.94113725  0.96588981  0.96764522  0.97600494  0.96134481\n",
      "  0.96185737  0.9573033   0.94530123  0.94888462  0.94291533  0.88156236\n",
      "  0.88063249  0.87567472  0.889913    0.90300823  0.91779989  0.89496603\n",
      "  0.90091263  0.86919741  0.86340503  0.84394136  0.8129655   0.81550562\n",
      "  0.78251581  0.80523628  0.80415673  0.84197277  0.86382687  0.88360352\n",
      "  0.97575546  0.92689443  0.93021019  0.89321516  0.79165334  0.72146726\n",
      "  0.63188058  0.53418583  0.43196777  0.32574576  0.21430314  0.09542949\n",
      " -0.03243025 -0.16700977 -0.29853103 -0.41023949 -0.48780683 -0.52956825\n",
      " -0.54462236 -0.54393798 -0.53512168 -0.52181089 -0.50533962 -0.48625898\n",
      " -0.46492478 -0.4417721  -0.41747746 -0.39288822]\n",
      "24 day input [[-0.36882037]]\n",
      "25 day input [ 0.92807377  0.89037567  0.8917183   0.8998739   0.96115884  0.95845089\n",
      "  0.97787827  0.93708666  0.95603778  0.96444739  0.98162042  0.98668251\n",
      "  0.98768495  0.98675055  0.9629596   0.96406637  0.99035208  0.98801608\n",
      "  0.98518566  0.98505865  1.          0.99313714  0.96706462  0.96414802\n",
      "  0.96378968  0.9283051   0.95831481  0.92509367  0.91752774  0.93710934\n",
      "  0.92571509  0.93729078  0.97575546  0.98196061  0.97638595  0.98154784\n",
      "  0.96367174  0.94794114  0.96969546  0.94674366  0.92827789  0.92463554\n",
      "  0.94113725  0.96588981  0.96764522  0.97600494  0.96134481  0.96185737\n",
      "  0.9573033   0.94530123  0.94888462  0.94291533  0.88156236  0.88063249\n",
      "  0.87567472  0.889913    0.90300823  0.91779989  0.89496603  0.90091263\n",
      "  0.86919741  0.86340503  0.84394136  0.8129655   0.81550562  0.78251581\n",
      "  0.80523628  0.80415673  0.84197277  0.86382687  0.88360352  0.97575546\n",
      "  0.92689443  0.93021019  0.89321516  0.79165334  0.72146726  0.63188058\n",
      "  0.53418583  0.43196777  0.32574576  0.21430314  0.09542949 -0.03243025\n",
      " -0.16700977 -0.29853103 -0.41023949 -0.48780683 -0.52956825 -0.54462236\n",
      " -0.54393798 -0.53512168 -0.52181089 -0.50533962 -0.48625898 -0.46492478\n",
      " -0.4417721  -0.41747746 -0.39288822 -0.36882037]\n",
      "25 day input [[-0.34590268]]\n",
      "26 day input [ 0.89037567  0.8917183   0.8998739   0.96115884  0.95845089  0.97787827\n",
      "  0.93708666  0.95603778  0.96444739  0.98162042  0.98668251  0.98768495\n",
      "  0.98675055  0.9629596   0.96406637  0.99035208  0.98801608  0.98518566\n",
      "  0.98505865  1.          0.99313714  0.96706462  0.96414802  0.96378968\n",
      "  0.9283051   0.95831481  0.92509367  0.91752774  0.93710934  0.92571509\n",
      "  0.93729078  0.97575546  0.98196061  0.97638595  0.98154784  0.96367174\n",
      "  0.94794114  0.96969546  0.94674366  0.92827789  0.92463554  0.94113725\n",
      "  0.96588981  0.96764522  0.97600494  0.96134481  0.96185737  0.9573033\n",
      "  0.94530123  0.94888462  0.94291533  0.88156236  0.88063249  0.87567472\n",
      "  0.889913    0.90300823  0.91779989  0.89496603  0.90091263  0.86919741\n",
      "  0.86340503  0.84394136  0.8129655   0.81550562  0.78251581  0.80523628\n",
      "  0.80415673  0.84197277  0.86382687  0.88360352  0.97575546  0.92689443\n",
      "  0.93021019  0.89321516  0.79165334  0.72146726  0.63188058  0.53418583\n",
      "  0.43196777  0.32574576  0.21430314  0.09542949 -0.03243025 -0.16700977\n",
      " -0.29853103 -0.41023949 -0.48780683 -0.52956825 -0.54462236 -0.54393798\n",
      " -0.53512168 -0.52181089 -0.50533962 -0.48625898 -0.46492478 -0.4417721\n",
      " -0.41747746 -0.39288822 -0.36882037 -0.34590268]\n",
      "26 day input [[-0.32453054]]\n",
      "27 day input [ 0.8917183   0.8998739   0.96115884  0.95845089  0.97787827  0.93708666\n",
      "  0.95603778  0.96444739  0.98162042  0.98668251  0.98768495  0.98675055\n",
      "  0.9629596   0.96406637  0.99035208  0.98801608  0.98518566  0.98505865\n",
      "  1.          0.99313714  0.96706462  0.96414802  0.96378968  0.9283051\n",
      "  0.95831481  0.92509367  0.91752774  0.93710934  0.92571509  0.93729078\n",
      "  0.97575546  0.98196061  0.97638595  0.98154784  0.96367174  0.94794114\n",
      "  0.96969546  0.94674366  0.92827789  0.92463554  0.94113725  0.96588981\n",
      "  0.96764522  0.97600494  0.96134481  0.96185737  0.9573033   0.94530123\n",
      "  0.94888462  0.94291533  0.88156236  0.88063249  0.87567472  0.889913\n",
      "  0.90300823  0.91779989  0.89496603  0.90091263  0.86919741  0.86340503\n",
      "  0.84394136  0.8129655   0.81550562  0.78251581  0.80523628  0.80415673\n",
      "  0.84197277  0.86382687  0.88360352  0.97575546  0.92689443  0.93021019\n",
      "  0.89321516  0.79165334  0.72146726  0.63188058  0.53418583  0.43196777\n",
      "  0.32574576  0.21430314  0.09542949 -0.03243025 -0.16700977 -0.29853103\n",
      " -0.41023949 -0.48780683 -0.52956825 -0.54462236 -0.54393798 -0.53512168\n",
      " -0.52181089 -0.50533962 -0.48625898 -0.46492478 -0.4417721  -0.41747746\n",
      " -0.39288822 -0.36882037 -0.34590268 -0.32453054]\n",
      "27 day input [[-0.3049009]]\n",
      "28 day input [ 0.8998739   0.96115884  0.95845089  0.97787827  0.93708666  0.95603778\n",
      "  0.96444739  0.98162042  0.98668251  0.98768495  0.98675055  0.9629596\n",
      "  0.96406637  0.99035208  0.98801608  0.98518566  0.98505865  1.\n",
      "  0.99313714  0.96706462  0.96414802  0.96378968  0.9283051   0.95831481\n",
      "  0.92509367  0.91752774  0.93710934  0.92571509  0.93729078  0.97575546\n",
      "  0.98196061  0.97638595  0.98154784  0.96367174  0.94794114  0.96969546\n",
      "  0.94674366  0.92827789  0.92463554  0.94113725  0.96588981  0.96764522\n",
      "  0.97600494  0.96134481  0.96185737  0.9573033   0.94530123  0.94888462\n",
      "  0.94291533  0.88156236  0.88063249  0.87567472  0.889913    0.90300823\n",
      "  0.91779989  0.89496603  0.90091263  0.86919741  0.86340503  0.84394136\n",
      "  0.8129655   0.81550562  0.78251581  0.80523628  0.80415673  0.84197277\n",
      "  0.86382687  0.88360352  0.97575546  0.92689443  0.93021019  0.89321516\n",
      "  0.79165334  0.72146726  0.63188058  0.53418583  0.43196777  0.32574576\n",
      "  0.21430314  0.09542949 -0.03243025 -0.16700977 -0.29853103 -0.41023949\n",
      " -0.48780683 -0.52956825 -0.54462236 -0.54393798 -0.53512168 -0.52181089\n",
      " -0.50533962 -0.48625898 -0.46492478 -0.4417721  -0.41747746 -0.39288822\n",
      " -0.36882037 -0.34590268 -0.32453054 -0.30490091]\n",
      "28 day input [[-0.28706676]]\n",
      "29 day input [ 0.96115884  0.95845089  0.97787827  0.93708666  0.95603778  0.96444739\n",
      "  0.98162042  0.98668251  0.98768495  0.98675055  0.9629596   0.96406637\n",
      "  0.99035208  0.98801608  0.98518566  0.98505865  1.          0.99313714\n",
      "  0.96706462  0.96414802  0.96378968  0.9283051   0.95831481  0.92509367\n",
      "  0.91752774  0.93710934  0.92571509  0.93729078  0.97575546  0.98196061\n",
      "  0.97638595  0.98154784  0.96367174  0.94794114  0.96969546  0.94674366\n",
      "  0.92827789  0.92463554  0.94113725  0.96588981  0.96764522  0.97600494\n",
      "  0.96134481  0.96185737  0.9573033   0.94530123  0.94888462  0.94291533\n",
      "  0.88156236  0.88063249  0.87567472  0.889913    0.90300823  0.91779989\n",
      "  0.89496603  0.90091263  0.86919741  0.86340503  0.84394136  0.8129655\n",
      "  0.81550562  0.78251581  0.80523628  0.80415673  0.84197277  0.86382687\n",
      "  0.88360352  0.97575546  0.92689443  0.93021019  0.89321516  0.79165334\n",
      "  0.72146726  0.63188058  0.53418583  0.43196777  0.32574576  0.21430314\n",
      "  0.09542949 -0.03243025 -0.16700977 -0.29853103 -0.41023949 -0.48780683\n",
      " -0.52956825 -0.54462236 -0.54393798 -0.53512168 -0.52181089 -0.50533962\n",
      " -0.48625898 -0.46492478 -0.4417721  -0.41747746 -0.39288822 -0.36882037\n",
      " -0.34590268 -0.32453054 -0.30490091 -0.28706676]\n",
      "29 day input [[-0.27099177]]\n",
      "[[0.7916533350944519], [0.7214672565460205], [0.6318805813789368], [0.5341858267784119], [0.43196776509284973], [0.32574576139450073], [0.2143031358718872], [0.09542948752641678], [-0.032430250197649], [-0.16700977087020874], [-0.29853102564811707], [-0.41023948788642883], [-0.4878068268299103], [-0.5295682549476624], [-0.5446223616600037], [-0.5439379811286926], [-0.5351216793060303], [-0.5218108892440796], [-0.5053396224975586], [-0.48625898361206055], [-0.46492478251457214], [-0.44177210330963135], [-0.41747745871543884], [-0.39288821816444397], [-0.3688203692436218], [-0.345902681350708], [-0.32453054189682007], [-0.3049009144306183], [-0.2870667576789856], [-0.2709917724132538]]\n"
     ]
    }
   ],
   "source": [
    "#Predictions for next 10 days\n",
    "from numpy import array\n",
    "lst_output=[]\n",
    "n_steps=100\n",
    "i=0\n",
    "while(i<30):\n",
    "    if(len(temp_input)>100):\n",
    "        x_input=np.array(temp_input[1:])\n",
    "        print(\"{} day input {}\".format(i,x_input))\n",
    "        x_input=x_input.reshape(1,-1)\n",
    "        x_input=x_input.reshape((1,n_steps,1))\n",
    "        #print (x_input)\n",
    "        yhat=model.predict(x_input,verbose=0)\n",
    "        print(\"{} day input {}\".format(i,yhat))\n",
    "        temp_input.extend(yhat[0].tolist())\n",
    "        temp_input=temp_input[1:]\n",
    "        lst_output.extend(yhat.tolist())\n",
    "        i=i+1\n",
    "        #print(temp_input)\n",
    "    else:\n",
    "        x_input=x_input.reshape((1, n_steps,1))\n",
    "        yhat=model.predict(x_input,verbose=0)\n",
    "        print(yhat[0])\n",
    "        temp_input.extend(yhat[0].tolist())\n",
    "        print(len(temp_input))\n",
    "        lst_output.extend(yhat.tolist())\n",
    "        i=i+1 \n",
    "\n",
    "print(lst_output)           "
   ]
  },
  {
   "cell_type": "code",
   "execution_count": 73,
   "metadata": {},
   "outputs": [
    {
     "data": {
      "text/plain": [
       "1258"
      ]
     },
     "execution_count": 73,
     "metadata": {},
     "output_type": "execute_result"
    }
   ],
   "source": [
    "len(df1)"
   ]
  },
  {
   "cell_type": "code",
   "execution_count": 74,
   "metadata": {},
   "outputs": [],
   "source": [
    "plot_new=np.arange(1,101)\n",
    "plot_pred=np.arange(101,131)"
   ]
  },
  {
   "cell_type": "code",
   "execution_count": 75,
   "metadata": {},
   "outputs": [
    {
     "data": {
      "text/plain": [
       "[<matplotlib.lines.Line2D at 0x2395e9ef910>]"
      ]
     },
     "execution_count": 75,
     "metadata": {},
     "output_type": "execute_result"
    },
    {
     "data": {
      "image/png": "[encoded data removed]",
      "text/plain": [
       "<Figure size 432x288 with 1 Axes>"
      ]
     },
     "metadata": {
      "needs_background": "light"
     },
     "output_type": "display_data"
    }
   ],
   "source": [
    "plt.plot(plot_new,scaler.inverse_transform(df1[1158:]))\n",
    "plt.plot(plot_pred,scaler.inverse_transform(lst_output))"
   ]
  },
  {
   "cell_type": "code",
   "execution_count": 76,
   "metadata": {},
   "outputs": [
    {
     "data": {
      "text/plain": [
       "[<matplotlib.lines.Line2D at 0x2395ea04e50>]"
      ]
     },
     "execution_count": 76,
     "metadata": {},
     "output_type": "execute_result"
    },
    {
     "data": {
      "image/png": "[encoded data removed]",
      "text/plain": [
       "<Figure size 432x288 with 1 Axes>"
      ]
     },
     "metadata": {
      "needs_background": "light"
     },
     "output_type": "display_data"
    }
   ],
   "source": [
    "df3=df1.tolist()\n",
    "df3.extend(lst_output)\n",
    "plt.plot(df3[1200:])"
   ]
  },
  {
   "cell_type": "code",
   "execution_count": 77,
   "metadata": {},
   "outputs": [
    {
     "data": {
      "text/plain": [
       "[<matplotlib.lines.Line2D at 0x2395eaf9fd0>]"
      ]
     },
     "execution_count": 77,
     "metadata": {},
     "output_type": "execute_result"
    },
    {
     "data": {
      "image/png": "[encoded data removed]",
      "text/plain": [
       "<Figure size 432x288 with 1 Axes>"
      ]
     },
     "metadata": {
      "needs_background": "light"
     },
     "output_type": "display_data"
    }
   ],
   "source": [
    "df3=scaler.inverse_transform(df3).tolist()\n",
    "plt.plot(df3)"
   ]
  }
 ],
 "metadata": {
  "interpreter": {
   "hash": "587fb584d547ee158da5b451f77f74aec36337c97101cdd04b5daaa64e8647e9"
  },
  "kernelspec": {
   "display_name": "Python 3.9.7 ('envo')",
   "language": "python",
   "name": "python3"
  },
  "language_info": {
   "codemirror_mode": {
    "name": "ipython",
    "version": 3
   },
   "file_extension": ".py",
   "mimetype": "text/x-python",
   "name": "python",
   "nbconvert_exporter": "python",
   "pygments_lexer": "ipython3",
   "version": "3.9.7"
  },
  "orig_nbformat": 4
 },
 "nbformat": 4,
 "nbformat_minor": 2
}
